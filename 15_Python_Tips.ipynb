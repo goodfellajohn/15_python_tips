{
  "nbformat": 4,
  "nbformat_minor": 0,
  "metadata": {
    "colab": {
      "provenance": []
    },
    "kernelspec": {
      "name": "python3",
      "display_name": "Python 3"
    },
    "language_info": {
      "name": "python"
    }
  },
  "cells": [
    {
      "cell_type": "markdown",
      "source": [
        "## 15 Python tips from GIT\n",
        "#  \n",
        "#### Source: https://gist.github.com/Julynx/dd500d8ae7e335c3c84684ede2293e1f"
      ],
      "metadata": {
        "id": "XBtkCe2RUvEt"
      }
    },
    {
      "cell_type": "markdown",
      "source": [
        "- Topic 1: Learn to iterate properly\n",
        "- Examples:\n",
        "  -  Use for index, item in enumerate(list): to loop over the index of an item and the item at the same time.\n",
        "  - Use for key, value in dictn.items(): instead of iterating over keys and then getting values as dictn[key].\n",
        "  - Use for item1, item2 in zip(list1, list2): to iterate over two lists at a time."
      ],
      "metadata": {
        "id": "K6B-JvUsU41r"
      }
    },
    {
      "cell_type": "code",
      "source": [
        "lst = [-1,1,2,4,8,16,32]\n",
        "\n",
        "for index, item in enumerate(lst):\n",
        "  print(index, item)\n",
        "\n",
        "capital_city = {\"Nepal\": \"Kathmandu\", \"Italy\": \"Rome\", \"England\": \"London\"}\n",
        "\n",
        "for key, value in capital_city.items():\n",
        "  print(key, value)\n",
        "\n",
        "list1 = lst\n",
        "list2 = [7,77,777,7777,77777,77777,7777777]\n",
        "\n",
        "for item1, item2 in zip(list1, list2):\n",
        "  print(item1, item2)"
      ],
      "metadata": {
        "colab": {
          "base_uri": "https://localhost:8080/"
        },
        "id": "oeMeLZlpU0qQ",
        "outputId": "2a016ddd-0273-4e0b-9dfc-74428d4abac1"
      },
      "execution_count": null,
      "outputs": [
        {
          "output_type": "stream",
          "name": "stdout",
          "text": [
            "0 -1\n",
            "1 1\n",
            "2 2\n",
            "3 4\n",
            "4 8\n",
            "5 16\n",
            "6 32\n",
            "Nepal Kathmandu\n",
            "Italy Rome\n",
            "England London\n",
            "-1 7\n",
            "1 77\n",
            "2 777\n",
            "4 7777\n",
            "8 77777\n",
            "16 77777\n",
            "32 7777777\n"
          ]
        }
      ]
    },
    {
      "cell_type": "markdown",
      "source": [
        "- Topic 2: Use with statements to automatically close files\n",
        "- Examples:\n",
        "  -  with open(file_path, 'w') as file:\n",
        "  \n",
        "    file.write('Hello, World!')\n",
        "- The file is closed automatically.  "
      ],
      "metadata": {
        "id": "NjgB459PXemF"
      }
    },
    {
      "cell_type": "code",
      "source": [
        "\n",
        "with open(file_path, 'w') as file:\n",
        "    file.write('Hello, World!')\n",
        "# The file is closed automatically."
      ],
      "metadata": {
        "id": "jxOnkHbNXziE"
      },
      "execution_count": null,
      "outputs": []
    },
    {
      "cell_type": "markdown",
      "source": [
        "- Topic 4: Use f-strings (yea yea we know)\n",
        "- Examples:\n",
        "  -  name = input('Enter your name: ')\n",
        "  - surname = input('Enter your surname: ')\n",
        "  - print(f'Hello, {name} {surname}')\n",
        "- Topic 5: Use split() and join()\n",
        "- If you want to separate a string into a list of substrings, use lst = text.split(separator).\n",
        "- Use text = separator.join(lst) to merge a list of strings together.\n",
        "- Examples:\n",
        "  -  names = ['Olivia', 'Nicholas', 'Violet']\n",
        "  - text = ', '.join(names)"
      ],
      "metadata": {
        "id": "PXXe6zHZYiA8"
      }
    },
    {
      "cell_type": "code",
      "source": [
        "names = ['Olivia', 'Nicholas', 'Violet']\n",
        "text = ', '.join(names)\n",
        "text"
      ],
      "metadata": {
        "colab": {
          "base_uri": "https://localhost:8080/",
          "height": 35
        },
        "id": "_qvBVrwaZOrk",
        "outputId": "c6e0c0f3-f8d7-4aa3-c75c-977f36ac6326"
      },
      "execution_count": null,
      "outputs": [
        {
          "output_type": "execute_result",
          "data": {
            "text/plain": [
              "'Olivia, Nicholas, Violet'"
            ],
            "application/vnd.google.colaboratory.intrinsic+json": {
              "type": "string"
            }
          },
          "metadata": {},
          "execution_count": 10
        }
      ]
    },
    {
      "cell_type": "markdown",
      "source": [
        "- Topic 5: Transform list into set to remove duplicates\n",
        "- Examples:\n",
        "  -  cities = ['London', 'Paris', 'London']\n",
        "  - unique_cities = set(cities)\n",
        "  - print(cities)\n",
        "  ---\n",
        "  - cities = list(cities)\n",
        "  - print(cities)"
      ],
      "metadata": {
        "id": "x8jo1CMZZZkJ"
      }
    },
    {
      "cell_type": "code",
      "source": [
        "cities = ['London', 'Paris', 'London']\n",
        "unique_cities = set(cities)\n",
        "\n",
        "print(cities)\n",
        "# >> {'London', 'Paris'}\n",
        "\n",
        "cities = list(cities)\n",
        "print(cities)"
      ],
      "metadata": {
        "colab": {
          "base_uri": "https://localhost:8080/"
        },
        "id": "bcb1ffixZ3A1",
        "outputId": "7ac332c4-3f01-4cdf-c9e7-6661742b94c5"
      },
      "execution_count": null,
      "outputs": [
        {
          "output_type": "stream",
          "name": "stdout",
          "text": [
            "['London', 'Paris', 'London']\n",
            "['London', 'Paris', 'London']\n"
          ]
        }
      ]
    },
    {
      "cell_type": "markdown",
      "source": [
        "- Topic 6: Instead of if variable == a or variable == b use if variable in {a, b}\n",
        "- Examples:\n",
        "  -  if variable in {a, b}:\n",
        "\n",
        "      res = do_something(variable)\n",
        "---\n",
        "- Learn how to use inline if statements\n",
        "  - a = 0 if b > 10 else 5\n",
        "---\n",
        "- Use or to handle None values\n",
        "  - Learn that you can use or to set a fallback value to assign in case another variable is None or False.\n",
        "  -- lst = data or [0, 0, 0]\n",
        "---\n",
        "- Instead of asking for permission, ask for forgiveness\n",
        " - Example:\n",
        " - try:\n",
        "    - with open(filename, 'w') as file:\n",
        "      - file.write('Hello, World!')\n",
        "                                                \n",
        "  - except FileNotFoundError:\n",
        "      - print('File does not exist.')\n",
        "\n",
        "  - except PermissionError:\n",
        "      - print('You dont have write permission.')\n",
        "\n",
        "  - except OSError as exc:\n",
        "      - print(f'An OSError has occurred:\\n{exc}')\n"
      ],
      "metadata": {
        "id": "YT_19wXlZ-Bf"
      }
    },
    {
      "cell_type": "code",
      "source": [
        "b = input()\n",
        "a = \"Same Number\" if b == \"y\" else \"Frank\"\n",
        "print(f\"Result = {a} \\nUsing an inline IF statement. Your input determined this output. Try 'y'.\")"
      ],
      "metadata": {
        "colab": {
          "base_uri": "https://localhost:8080/"
        },
        "id": "Qx1RjDaNbVcU",
        "outputId": "d02b67ed-0bcc-4ddb-cdc1-40836991edca"
      },
      "execution_count": null,
      "outputs": [
        {
          "output_type": "stream",
          "name": "stdout",
          "text": [
            "y\n",
            "Result = Same Number \n",
            " Using an inline IF statement. Your input determined this output. Try 'y'. Result = Same Number\n"
          ]
        }
      ]
    },
    {
      "cell_type": "code",
      "source": [
        "items = [item1, item2, item3, item4]\n",
        "\n",
        "def process_item(item):        # 'process_item'\n",
        "    item = do_something(item)  #  now does the\n",
        "    item = do_smth_else(item)  #  processing\n",
        "    ...                        #  for a single\n",
        "    return item                #  item.\n",
        "\n",
        "new_items = [process_item(item)\n",
        "             for item in items]"
      ],
      "metadata": {
        "id": "5OxhD7-Fc-me"
      },
      "execution_count": null,
      "outputs": []
    },
    {
      "cell_type": "code",
      "source": [
        "numbers = [1, 3, 4, 5, 7, 9, 2]\n",
        "\n",
        "try:\n",
        "    result = next(number for number in numbers\n",
        "                  if number > 3)\n",
        "\n",
        "except StopIteration:\n",
        "    result = None\n",
        "\n",
        "print(result)"
      ],
      "metadata": {
        "colab": {
          "base_uri": "https://localhost:8080/"
        },
        "id": "NEM9cirDdPKt",
        "outputId": "c9a6206b-67a9-44fc-cb44-9fe8ce160eae"
      },
      "execution_count": null,
      "outputs": [
        {
          "output_type": "stream",
          "name": "stdout",
          "text": [
            "4\n"
          ]
        }
      ]
    },
    {
      "cell_type": "markdown",
      "source": [
        "##Extra Tips\n",
        "Here are some secret extra tips, for making it all the way to the end.\n",
        "\n",
        "1) Assign values to multiple variables at a time or swap them\n",
        "- Use multiple assignments and commas to give values to more than one variable at a time: a, b, c = 1, 2, 3\n",
        "- Or easily swap two variables in a single line: a, b = b, a\n",
        "\n",
        "2) Use all() and any()\n",
        "- all(a, b, c) returns True if a, b and c are True.\n",
        "- any(a, b, c) returns True if at least one of a, b or c is True.\n",
        "- You can use them as conditions in your if statements.\n",
        "\n",
        "\n",
        "3) Simplify your conditions with intervals or ranges\n",
        "- Instead of writing separate conditions (if min < value and value < max:):\n",
        "\n",
        "  - Use intervals: if min < value < max:\n",
        "  - Or use ranges: if value in range(min, max):\n",
        "- Keep in mind that min is included in the range(), but max is not."
      ],
      "metadata": {
        "id": "kDuJCa0VdSuj"
      }
    },
    {
      "cell_type": "markdown",
      "source": [
        "---\n",
        "# SQL Reminders"
      ],
      "metadata": {
        "id": "GE3dYHl9Oe7V"
      }
    },
    {
      "cell_type": "markdown",
      "source": [
        "### % Wildcard\n",
        "- The % wildcard can be used in a LIKE operator pattern to match zero or more unspecified character(s).\n",
        "- The given query will match any movie that begins with The, followed by zero or more of any characters.\n",
        "- SELECT name FROM movies WHERE name LIKE 'The%';\n",
        "### _ Wildcard\n",
        "- The _ wildcard can be used in a LIKE operator pattern to match any single unspecified character.\n",
        "- The given query will match any movie which begins with a single character, followed by ove.\n",
        "- SELECT name FROM movies WHERE name LIKE '_ove';\n",
        "### Don't forget [Between, Distinct, NULL]\n",
        "- SELECT distinct address\n",
        "FROM records\n",
        "WHERE address IS NOT NULL\n",
        "and year BETWEEN 1980 AND 1990;\n",
        "---\n",
        "### JOINS link: [JOINS link](https://www.datacamp.com/cheat-sheet/sql-joins-cheat-sheet)\n",
        "---\n",
        "### Rank\n",
        "- SELECT v, RANK () OVER ( ORDER BY v ) rank_no FROM sales.rank_demo;\n",
        "- SELECT * FROM (\n",
        "\t  SELECT\n",
        "\t\tproduct_id,\n",
        "\t\tproduct_name,\n",
        "\t\tbrand_id,\n",
        "\t\tlist_price,\n",
        "\t\tRANK () OVER (\n",
        "\t\t\tPARTITION BY brand_id\n",
        "\t\t\tORDER BY list_price DESC\n",
        "\t\t) price_rank\n",
        "\t  FROM\n",
        "\t\tproduction.products    ) t\n",
        "      WHERE price_rank <= 3;\n",
        "  \n",
        "  - First, the PARTITION BY clause divides the products into partitions by brand Id.\n",
        "  - Second, the ORDER BY clause sorts products in each partition by list prices.\n",
        "  - Third, the outer query returns the products whose rank values are less than or equal to three.\n",
        "- The RANK() function is applied to each row in each partition and reinitialized when crossing the partition’s boundary."
      ],
      "metadata": {
        "id": "s6Npvf3oOj1U"
      }
    },
    {
      "cell_type": "markdown",
      "source": [],
      "metadata": {
        "id": "mijrwMWVRu2u"
      }
    }
  ]
}